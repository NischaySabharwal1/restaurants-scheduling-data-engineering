{
 "cells": [
  {
   "cell_type": "code",
   "execution_count": 306,
   "id": "00f67671",
   "metadata": {},
   "outputs": [],
   "source": [
    "#!pip install numpy, pandas\n",
    "import numpy as np \n",
    "import pandas as pd\n",
    "from datetime import datetime as dt, timedelta\n",
    "from tabulate import tabulate\n",
    "import re"
   ]
  },
  {
   "cell_type": "code",
   "execution_count": 307,
   "id": "4233c646",
   "metadata": {},
   "outputs": [],
   "source": [
    "path = \"D:\\\\Downloads\\\\\"\n",
    "filename = 'restaraunts-opening-hour.xlsx'"
   ]
  },
  {
   "cell_type": "markdown",
   "id": "9444e119",
   "metadata": {},
   "source": [
    "## Read the data into the notebook"
   ]
  },
  {
   "cell_type": "code",
   "execution_count": 308,
   "id": "b6fce999",
   "metadata": {},
   "outputs": [],
   "source": [
    "df = pd.read_excel(path+filename, header=None).rename(columns = {0:'restaurants', 1: 'open_timings'})"
   ]
  },
  {
   "cell_type": "markdown",
   "id": "808ddbb3",
   "metadata": {},
   "source": [
    "## Functions to display the structure and descriptive statistics of the dataset"
   ]
  },
  {
   "cell_type": "code",
   "execution_count": 309,
   "id": "2eef4d6d",
   "metadata": {},
   "outputs": [],
   "source": [
    "def detect_outliers(df, c):\n",
    "    p1 = df[c].quantile(0.25)\n",
    "    p2 = df[c].quantile(0.75)\n",
    "    iq = iqr(df[c])\n",
    "    mask = ((df[c]<(p1-1.5*iq)) & (df[c]>(p2+1.5*iq)))\n",
    "    if mask.sum()<1:\n",
    "        mask = ((df[c]>df[c].quantile(0.01)) & (df[c]<df[c].quantile(0.999)))\n",
    "        dft = df[mask]\n",
    "    else: \n",
    "        dft = df[~mask]\n",
    "        print(f'% of Outliers in {c}: ', 100.0*(df.shape[0]-dft.shape[0])/df.shape[0], end='\\n\\n')\n",
    "\n",
    "    return dft\n",
    "\n",
    "def summarize_df(df: pd.DataFrame, treat_outliers=False):\n",
    "\n",
    "    rows = df.shape[0]\n",
    "    colnos = df.shape[1]\n",
    "    print('No. of rows: ', rows, ', No of columns: ', colnos)\n",
    "\n",
    "    dup = df.duplicated().sum()\n",
    "    if dup>0:\n",
    "        print('No. of duplicate rows detected: ', dup, end = '\\n\\n')\n",
    "\n",
    "        df.drop_duplicates(inplace=True)\n",
    "        print('Removed all duplicates', end='\\n\\n')\n",
    "\n",
    "    elif dup==0:\n",
    "        print('No duplicates in the dataset', end='\\n\\n')\n",
    "\n",
    "\n",
    "    print('Columns with nan value percentages: ', end='\\n\\n')\n",
    "\n",
    "    nan = df.isna().sum()\n",
    "    print(100*nan[nan>0]/rows, end='\\n\\n')\n",
    "\n",
    "    df.columns = [c.lower().replace(' ', '_') for c in df.columns]\n",
    "\n",
    "    print('Datatypes of columns:', end='\\n\\n')\n",
    "\n",
    "    tb = {'Datatype': [], 'unique_values': []}\n",
    "    cols = []\n",
    "    for c in df.columns:\n",
    "\n",
    "        try:\n",
    "            if 'datetime' in c or 'time' in c or 'timestamp' in c:\n",
    "                df[c] = pd.to_datetime(df[c])\n",
    "\n",
    "            elif df[c].dtype=='float64' or df[c].dtype=='int64' :\n",
    "\n",
    "                if df[c].nunique()>200:\n",
    "                    if treat_outliers==True:\n",
    "                        df = detect_outliers(df, c)\n",
    "                    else: \n",
    "                        _ = detect_outliers(df,c)\n",
    "\n",
    "            tb['Datatype'].append(df[c].dtype)\n",
    "            tb['unique_values'].append(df[c].nunique())\n",
    "            cols.append(c)\n",
    "        except Exception as e:\n",
    "            print('Error:', e)\n",
    "\n",
    "    tb = pd.DataFrame(tb, index = cols)\n",
    "\n",
    "    print(tabulate(tb, headers = 'keys', tablefmt = 'psql'), end = '\\n\\n')\n",
    "\n",
    "    print('Descriptive Stats: ', end='\\n\\n')\n",
    "    print(tabulate(df.describe(include='all'), headers = 'keys', tablefmt = 'psql'))\n",
    "\n",
    "    return df\n"
   ]
  },
  {
   "cell_type": "code",
   "execution_count": 310,
   "id": "11297514",
   "metadata": {},
   "outputs": [
    {
     "name": "stdout",
     "output_type": "stream",
     "text": [
      "No. of rows:  51 , No of columns:  2\n",
      "No duplicates in the dataset\n",
      "\n",
      "Columns with nan value percentages: \n",
      "\n",
      "Series([], dtype: float64)\n",
      "\n",
      "Datatypes of columns:\n",
      "\n",
      "+--------------+------------+-----------------+\n",
      "|              | Datatype   |   unique_values |\n",
      "|--------------+------------+-----------------|\n",
      "| restaurants  | object     |              51 |\n",
      "| open_timings | object     |              43 |\n",
      "+--------------+------------+-----------------+\n",
      "\n",
      "Descriptive Stats: \n",
      "\n",
      "+--------+---------------+-----------------------------------------------------------+\n",
      "|        | restaurants   | open_timings                                              |\n",
      "|--------+---------------+-----------------------------------------------------------|\n",
      "| count  | 51            | 51                                                        |\n",
      "| unique | 51            | 43                                                        |\n",
      "| top    | Kushi Tsuru   | Mon-Thu, Sun 11:30 am - 10 pm  / Fri-Sat 11:30 am - 11 pm |\n",
      "| freq   | 1             | 3                                                         |\n",
      "+--------+---------------+-----------------------------------------------------------+\n"
     ]
    }
   ],
   "source": [
    "_ = summarize_df(df)"
   ]
  },
  {
   "cell_type": "code",
   "execution_count": 317,
   "id": "abec0d93",
   "metadata": {},
   "outputs": [],
   "source": [
    "df1 = df.copy()"
   ]
  },
  {
   "cell_type": "markdown",
   "id": "649dfea5",
   "metadata": {},
   "source": [
    "## Functions to build the schema with 2 tables, table1=restaurants table, table2= schedule"
   ]
  },
  {
   "cell_type": "code",
   "execution_count": 555,
   "id": "b976ff21",
   "metadata": {},
   "outputs": [],
   "source": [
    "def convert_to_24H(x): #function replaces a given string of format 11 am to a form 11:00\n",
    "    l = x.split(' ')\n",
    "    x = l[0]\n",
    "    \n",
    "    #Convert the given string into datetime object\n",
    "    try:\n",
    "        x = dt.strptime(x, \"%H:%M\")\n",
    "    except Exception: x = dt.strptime(x, \"%H\")\n",
    "    \n",
    "    if (l[-1] == 'am'):\n",
    "        if x.hour==12:\n",
    "            x += timedelta(hours = 12) #add 12 hours if the given time is 12 am to convert to 24:00\n",
    "    elif (l[-1] == 'pm'):\n",
    "        if x.hour!=12:\n",
    "            x += timedelta(hours=12) #add 12 hours if the given time is 1 pm to 11 pm to convert into 24H format\n",
    "    #else: print(\"Invalid Values, opening time can't be greater than closing time\")\n",
    "    \n",
    "    return l, x, x.strftime(\"%H:%M\")\n",
    "\n",
    "def convert_to_24H_list(x): #function replaces a given string of format 11 am to 8 pm to a list of times like [11:00, 12:00,..]\n",
    "    l = x.split(' - ')\n",
    "    start, st, _ = convert_to_24H(l[0]) #starting of the range\n",
    "    end, ed, _ = convert_to_24H(l[-1])#end of the range\n",
    "    \n",
    "    if (start[-1] == 'am') and (end[-1] == 'am'):\n",
    "        if ed.hour==0:\n",
    "            ed -= timedelta(minutes=1)\n",
    "        elif ed.hour<st.hour:\n",
    "            ed += timedelta(days=1)\n",
    "    elif (start[-1] == 'pm') and (end[-1] == 'pm'):\n",
    "        if st.hour!=12:\n",
    "            st = st + timedelta(hours=12)\n",
    "    elif (start[-1] == 'pm') and (end[-1] == 'am'):\n",
    "        if ed.hour==0:\n",
    "            ed -= timedelta(minutes=1)\n",
    "        else:\n",
    "            ed += timedelta(days=1)\n",
    "    return [(st + timedelta(minutes=(x*30))).strftime(\"%H:%M\") for x in range((((ed-st)/3600).seconds+1)*2) if (st + timedelta(minutes=(x*30)))<=ed]\n",
    "\n",
    "def form_schedule(df: pd.DataFrame)->pd.DataFrame:\n",
    "    \n",
    "    #Assigning interpretable names to columns\n",
    "    df.rename(columns = {0:'restaurants', 1: 'open_timings'}, inplace=True)\n",
    "    \n",
    "    #restructuring the dataframe in lexicographical order of restaurants and adding restaurant ids\n",
    "    df.sort_values(by = 'restaurants', ignore_index=True, inplace=True)\n",
    "    df['rest_id'] = df.index+1\n",
    "    \n",
    "    #Forming restaurants dimension table for ease of access\n",
    "    restaurants = df[['rest_id', 'restaurants']].rename(columns = {'restaurants': 'rest_name'})\n",
    "    \n",
    "    #Extract weekdays and \n",
    "    df['weekdays'] = df['open_timings'].apply(lambda x: re.findall('(\\w{3}\\-*\\w*)', x))\n",
    "    df['timings'] = df['open_timings'].apply(lambda x: re.findall('(\\d+:*\\d* \\w+ -* \\d+:*\\d* \\w+)', x))\n",
    "    \n",
    "    weekdays = ['Mon', 'Tue', 'Wed', 'Thu', 'Fri', 'Sat', 'Sun']\n",
    "    \n",
    "    def replace_range(x): #function replaces a given string of format Mon-Thu to a list of weekdays [Mon, Tue, Wed, Thu]\n",
    "        if '-' in x:\n",
    "            l = x.split('-')\n",
    "            start = weekdays.index(l[0])\n",
    "            end = weekdays.index(l[-1])\n",
    "            temp = []\n",
    "            temp = [weekdays[i] for i in range(start,end+1,1)]\n",
    "            return temp\n",
    "    \n",
    "    def collect_days(x): #function collects the days in a list of lists based on ranges or individual days \n",
    "        days = []\n",
    "        for i, day in enumerate(x):\n",
    "            if '-' in day:\n",
    "                try: \n",
    "                    if len(days[i-1])==1:\n",
    "                        days[i-1]+=replace_range(day)\n",
    "                    else: days.append(replace_range(day))\n",
    "                except Exception:\n",
    "                    days.append(replace_range(day))\n",
    "            elif (i>0 and i<(len(x)-1) and ('-' in x[i-1]) and ('-' in x[i+1])): \n",
    "                days[i-1] += [day]\n",
    "            else: \n",
    "                days.append([day])\n",
    "        return days\n",
    "    \n",
    "    df.weekdays = df.weekdays.apply(lambda x: collect_days(x))\n",
    "    df.drop(columns = 'open_timings', inplace=True)\n",
    "    \n",
    "    df = df.explode(column = ['weekdays', 'timings']) #initial explode for converting list of lists to lists\n",
    "    df.timings = df.timings.apply(lambda x: convert_to_24H_list(x)) #extract time ranges from strings\n",
    "    t = df.explode(column = 'weekdays').explode(column='timings') #explode list of days and times for individual values\n",
    "    t = t.groupby(['timings', 'weekdays'], as_index=False).agg({'rest_id': set}) #groupby times and weeks to collect list of restaurants based on group\n",
    "    schedule = t.pivot(columns='weekdays', index='timings', values='rest_id') #form schedule data set showing open restaurants based on time and day\n",
    "    \n",
    "    return restaurants, schedule"
   ]
  },
  {
   "cell_type": "code",
   "execution_count": 414,
   "id": "bc5723c6",
   "metadata": {},
   "outputs": [],
   "source": [
    "#extract the restaurants table and schedules from the given data into 2 dataframes\n",
    "restaurants, schedule = form_schedule(df.copy()) "
   ]
  },
  {
   "cell_type": "markdown",
   "id": "1d35bcc6",
   "metadata": {},
   "source": [
    "## Functions to get the list of restaurants open on the given weekday and time"
   ]
  },
  {
   "cell_type": "code",
   "execution_count": 590,
   "id": "a55adb2e",
   "metadata": {},
   "outputs": [],
   "source": [
    "def output_list_of_restaurants(weekday, time, rest=restaurants.copy(), schedule=schedule.copy()):\n",
    "    \n",
    "    _, _, time = convert_to_24H(time) #convert the input time to 24H format\n",
    "    \n",
    "    weekdays = {'Monday': 'Mon', 'Tuesday':'Tue', 'Wednesday':'Wed', 'Thursday':'Thu', 'Friday':'Fri', 'Saturday':'Sat', 'Sunday':'Sun'}\n",
    "    weekday = weekday.title()\n",
    "    if weekday not in schedule.columns:\n",
    "        if weekday in weekdays.keys():\n",
    "            weekday = weekdays[weekday] #replace given weekday string format, with the values inside the schedule table\n",
    "    \n",
    "    def get_listed_time(tm):\n",
    "        for i, tim in enumerate(schedule.index):\n",
    "            #time = dt.strptime(tim, \"%H:%M\")\n",
    "            if tim>tm:\n",
    "                return schedule.index[i-1] #if the time is lesser than a certain time, the time before that is chosen to pick the restaurants\n",
    "                break\n",
    "            elif tim==tm:\n",
    "                return tim\n",
    "                break\n",
    "    \n",
    "    rest1 = restaurants.set_index('rest_id')['rest_name'].to_dict()\n",
    "    \n",
    "    if time not in schedule.index:\n",
    "        time = get_listed_time(time) \n",
    "    \n",
    "    try:\n",
    "        rest_ = list(schedule.loc[time, weekday])\n",
    "        result = pd.Series(rest_).map(rest1) #replace restaurant ids with restaurant names\n",
    "        headers = ['Restaurant-ID', 'Restaurant-Name']\n",
    "        #print open restaurants with their ids in a table format\n",
    "        #print(tabulate(list(zip(rest_, result.values)), headers = headers, tablefmt = 'psql'))\n",
    "        return list(rest_)\n",
    "    except Exception:\n",
    "        return 'No Restaurants Open on the given day and time'\n",
    "        \n",
    "def take_input(day_time):\n",
    "    print('Please Input the weekday and time in the same order, separated by a comma:')\n",
    "    #day_time = input().strip()\n",
    "    print('Open Restaurants are: ')\n",
    "    l = day_time.split(',')\n",
    "    weekday = l[0].strip()\n",
    "    time = l[1].strip()\n",
    "    return output_list_of_restaurants(weekday, time)"
   ]
  },
  {
   "cell_type": "markdown",
   "id": "f8670c82",
   "metadata": {},
   "source": [
    "## Taking input here"
   ]
  },
  {
   "cell_type": "code",
   "execution_count": 578,
   "id": "8228183a",
   "metadata": {},
   "outputs": [
    {
     "name": "stdout",
     "output_type": "stream",
     "text": [
      "Please Input the weekday and time in the same order, separated by a comma:\n",
      "tuesday, 10 am\n",
      "Open Restaurants are: \n",
      "+-----------------+-----------------------------------+\n",
      "|   Restaurant-ID | Restaurant-Name                   |\n",
      "|-----------------+-----------------------------------|\n",
      "|               5 | All Season Restaurant             |\n",
      "|              38 | Sabella & La Torre                |\n",
      "|              41 | Santorini's Mediterranean Cuisine |\n",
      "|              49 | Tong Palace                       |\n",
      "|              18 | Herbivore                         |\n",
      "|              19 | India Garden Restaurant           |\n",
      "+-----------------+-----------------------------------+\n"
     ]
    },
    {
     "data": {
      "text/plain": [
       "[5, 38, 41, 49, 18, 19]"
      ]
     },
     "execution_count": 578,
     "metadata": {},
     "output_type": "execute_result"
    }
   ],
   "source": [
    "#input = tuesday, 10 am\n",
    "take_input()"
   ]
  },
  {
   "cell_type": "code",
   "execution_count": 581,
   "id": "18702afb",
   "metadata": {},
   "outputs": [
    {
     "name": "stdout",
     "output_type": "stream",
     "text": [
      "Please Input the weekday and time in the same order, separated by a comma:\n",
      "Open Restaurants are: \n",
      "+-----------------+-------------------------------------+\n",
      "|   Restaurant-ID | Restaurant-Name                     |\n",
      "|-----------------+-------------------------------------|\n",
      "|               1 | 2G Japanese Brasserie               |\n",
      "|               2 | A-1 Cafe Restaurant                 |\n",
      "|               3 | Alhamra                             |\n",
      "|               4 | Alioto's Restaurant                 |\n",
      "|               5 | All Season Restaurant               |\n",
      "|               6 | Bai Thong Thai Cuisine              |\n",
      "|               7 | Bamboo Restaurant                   |\n",
      "|               8 | Blu Restaurant                      |\n",
      "|               9 | Bombay Indian Restaurant            |\n",
      "|              10 | Bow Hon Restaurant                  |\n",
      "|              11 | Burger Bar                          |\n",
      "|              12 | Canton Seafood & Dim Sum Restaurant |\n",
      "|              13 | Cesario's                           |\n",
      "|              14 | Chili Lemon Garlic                  |\n",
      "|              15 | Colombini Italian Cafe Bistro       |\n",
      "|              16 | Far East Cafe                       |\n",
      "|              17 | Hanuri                              |\n",
      "|              18 | Herbivore                           |\n",
      "|              19 | India Garden Restaurant             |\n",
      "|              20 | Iroha Restaurant                    |\n",
      "|              21 | Isobune Sushi                       |\n",
      "|              22 | John's Grill                        |\n",
      "|              23 | Kushi Tsuru                         |\n",
      "|              24 | Kyoto Sushi                         |\n",
      "|              25 | Marrakech Moroccan Restaurant       |\n",
      "|              26 | McCormick & Kuleto's                |\n",
      "|              27 | Mifune Restaurant                   |\n",
      "|              28 | Naan 'N' Curry                      |\n",
      "|              29 | New Delhi Indian Restaurant         |\n",
      "|              30 | Nick's Lighthouse                   |\n",
      "|              31 | Osakaya Restaurant                  |\n",
      "|              32 | Paragon Restaurant & Bar            |\n",
      "|              33 | Parallel 37                         |\n",
      "|              34 | Penang Garden                       |\n",
      "|              35 | Quan Bac                            |\n",
      "|              36 | Restaurant Lulu                     |\n",
      "|              37 | Rose Pistola                        |\n",
      "|              38 | Sabella & La Torre                  |\n",
      "|              39 | Sam's Grill & Seafood Restaurant    |\n",
      "|              40 | San Dong House                      |\n",
      "|              41 | Santorini's Mediterranean Cuisine   |\n",
      "|              42 | Sapporo-Ya Japanese Restaurant      |\n",
      "|              43 | Shanghai China Restaurant           |\n",
      "|              44 | Soluna Cafe and Lounge              |\n",
      "|              45 | Sudachi                             |\n",
      "|              46 | Thai Stick Restaurant               |\n",
      "|              47 | The Cheesecake Factory              |\n",
      "|              48 | The Stinking Rose                   |\n",
      "|              49 | Tong Palace                         |\n",
      "|              50 | Tres                                |\n",
      "|              51 | Viva Pizza Restaurant               |\n",
      "+-----------------+-------------------------------------+\n"
     ]
    },
    {
     "data": {
      "text/plain": [
       "[1,\n",
       " 2,\n",
       " 3,\n",
       " 4,\n",
       " 5,\n",
       " 6,\n",
       " 7,\n",
       " 8,\n",
       " 9,\n",
       " 10,\n",
       " 11,\n",
       " 12,\n",
       " 13,\n",
       " 14,\n",
       " 15,\n",
       " 16,\n",
       " 17,\n",
       " 18,\n",
       " 19,\n",
       " 20,\n",
       " 21,\n",
       " 22,\n",
       " 23,\n",
       " 24,\n",
       " 25,\n",
       " 26,\n",
       " 27,\n",
       " 28,\n",
       " 29,\n",
       " 30,\n",
       " 31,\n",
       " 32,\n",
       " 33,\n",
       " 34,\n",
       " 35,\n",
       " 36,\n",
       " 37,\n",
       " 38,\n",
       " 39,\n",
       " 40,\n",
       " 41,\n",
       " 42,\n",
       " 43,\n",
       " 44,\n",
       " 45,\n",
       " 46,\n",
       " 47,\n",
       " 48,\n",
       " 49,\n",
       " 50,\n",
       " 51]"
      ]
     },
     "execution_count": 581,
     "metadata": {},
     "output_type": "execute_result"
    }
   ],
   "source": [
    "#input = monday, 5:30 pm\n",
    "#converted input function to take arguments for ease of testing\n",
    "take_input('monday, 5:30 pm')"
   ]
  },
  {
   "cell_type": "code",
   "execution_count": 582,
   "id": "9e0a9c32",
   "metadata": {},
   "outputs": [
    {
     "name": "stdout",
     "output_type": "stream",
     "text": [
      "Please Input the weekday and time in the same order, separated by a comma:\n",
      "Open Restaurants are: \n",
      "No Restaurants Open on the given day and time\n"
     ]
    }
   ],
   "source": [
    "#input = friday, 7:30 am\n",
    "take_input('friday, 7:30 am')"
   ]
  },
  {
   "cell_type": "code",
   "execution_count": 583,
   "id": "839519a0",
   "metadata": {},
   "outputs": [
    {
     "name": "stdout",
     "output_type": "stream",
     "text": [
      "Please Input the weekday and time in the same order, separated by a comma:\n",
      "Open Restaurants are: \n",
      "+-----------------+-------------------------------+\n",
      "|   Restaurant-ID | Restaurant-Name               |\n",
      "|-----------------+-------------------------------|\n",
      "|              25 | Marrakech Moroccan Restaurant |\n",
      "|              28 | Naan 'N' Curry                |\n",
      "+-----------------+-------------------------------+\n"
     ]
    },
    {
     "data": {
      "text/plain": [
       "[25, 28]"
      ]
     },
     "execution_count": 583,
     "metadata": {},
     "output_type": "execute_result"
    }
   ],
   "source": [
    "#input = sunday, 1:30 am\n",
    "take_input('sunday, 1:30 am')"
   ]
  },
  {
   "cell_type": "markdown",
   "id": "f1332368",
   "metadata": {},
   "source": [
    "## Testing"
   ]
  },
  {
   "cell_type": "code",
   "execution_count": 576,
   "id": "ec2ed439",
   "metadata": {},
   "outputs": [],
   "source": [
    "#!pip install ipytest"
   ]
  },
  {
   "cell_type": "code",
   "execution_count": 586,
   "id": "c18c16b9",
   "metadata": {},
   "outputs": [],
   "source": [
    "import pytest\n",
    "import ipytest\n",
    "ipytest.autoconfig()"
   ]
  },
  {
   "cell_type": "code",
   "execution_count": 593,
   "id": "58e0b48b",
   "metadata": {},
   "outputs": [],
   "source": [
    "@pytest.mark.parametrize(\"day_time\", ['tuesday, 10 am'])\n",
    "def test_input1(day_time):\n",
    "    result = take_input(day_time)\n",
    "    assert sorted(result) == sorted([5, 38, 41, 49, 18, 19]), \"Test Failed\"\n",
    "\n",
    "@pytest.mark.parametrize(\"day_time\", ['monday, 5:30 pm'])\n",
    "def test_input2(day_time):\n",
    "    result = take_input(day_time)\n",
    "    assert sorted(result) == sorted([1,2,3,4,5,6,7,8,9,10,11,12,13,14,15,16,17,18,19,20,21,22,23,24,25,26,27,28,29,30,31,32,33,34,35,36,37,38,39,40,41,42,43,44,45,46,47,48,49,50,51]), \"Test Failed\"\n",
    "\n",
    "@pytest.mark.parametrize(\"day_time\", ['friday, 7:30 am'])\n",
    "def test_input3(day_time):\n",
    "    result = take_input(day_time)\n",
    "    assert result == 'No Restaurants Open on the given day and time', \"Test Failed, there is no open restaurant in the data at the given time\"\n",
    "    \n",
    "@pytest.mark.parametrize(\"day_time\", ['sunday, 1:30 am'])\n",
    "def test_input4(day_time):\n",
    "    result = take_input(day_time)\n",
    "    assert sorted(result) == sorted([25, 28]), \"Test Failed\""
   ]
  },
  {
   "cell_type": "code",
   "execution_count": 594,
   "id": "307a269d",
   "metadata": {},
   "outputs": [
    {
     "name": "stdout",
     "output_type": "stream",
     "text": [
      "\u001b[32m.\u001b[0m\u001b[32m.\u001b[0m\u001b[32m.\u001b[0m\u001b[32m.\u001b[0m\u001b[32m                                                                                         [100%]\u001b[0m\n",
      "\u001b[32m\u001b[32m\u001b[1m4 passed\u001b[0m\u001b[32m in 0.05s\u001b[0m\u001b[0m\n"
     ]
    },
    {
     "data": {
      "text/plain": [
       "<ExitCode.OK: 0>"
      ]
     },
     "execution_count": 594,
     "metadata": {},
     "output_type": "execute_result"
    }
   ],
   "source": [
    "ipytest.run()"
   ]
  },
  {
   "cell_type": "code",
   "execution_count": null,
   "id": "b12f9015",
   "metadata": {},
   "outputs": [],
   "source": []
  }
 ],
 "metadata": {
  "kernelspec": {
   "display_name": "Python 3 (ipykernel)",
   "language": "python",
   "name": "python3"
  },
  "language_info": {
   "codemirror_mode": {
    "name": "ipython",
    "version": 3
   },
   "file_extension": ".py",
   "mimetype": "text/x-python",
   "name": "python",
   "nbconvert_exporter": "python",
   "pygments_lexer": "ipython3",
   "version": "3.9.7"
  }
 },
 "nbformat": 4,
 "nbformat_minor": 5
}
